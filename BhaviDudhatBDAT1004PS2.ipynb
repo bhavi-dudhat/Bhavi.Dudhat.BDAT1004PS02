{
 "cells": [
  {
   "cell_type": "markdown",
   "id": "4692eb1c",
   "metadata": {},
   "source": [
    "#### Question 1\n",
    "#### Consider the following Python module:\n",
    "a = 0\n",
    "\n",
    "def b():\n",
    "\n",
    " global a\n",
    " \n",
    " a = c(a)\n",
    " \n",
    "def c(a):\n",
    "\n",
    " return a + 2\n",
    "\n",
    "#### After importing the module into the interpreter, you execute:\n",
    " b()\n",
    " \n",
    " b()\n",
    " \n",
    " b()\n",
    " \n",
    " a\n",
    "\n",
    "What value is displayed when the last expression (a) is evaluated? Explain your\n",
    "answer by indicating what happens in every executed statement."
   ]
  },
  {
   "cell_type": "code",
   "execution_count": 1,
   "id": "80936c66",
   "metadata": {},
   "outputs": [],
   "source": [
    "a = 0\n",
    "def b():\n",
    " global a\n",
    " a = c(a)\n",
    "def c(a):\n",
    " return a + 2"
   ]
  },
  {
   "cell_type": "code",
   "execution_count": 2,
   "id": "46d1cfb2",
   "metadata": {},
   "outputs": [],
   "source": [
    "b()\n"
   ]
  },
  {
   "cell_type": "code",
   "execution_count": 3,
   "id": "aecc6d06",
   "metadata": {},
   "outputs": [],
   "source": [
    "b()\n"
   ]
  },
  {
   "cell_type": "code",
   "execution_count": 4,
   "id": "6633c982",
   "metadata": {},
   "outputs": [],
   "source": [
    "b()\n"
   ]
  },
  {
   "cell_type": "code",
   "execution_count": 5,
   "id": "cdfa1921",
   "metadata": {},
   "outputs": [
    {
     "data": {
      "text/plain": [
       "6"
      ]
     },
     "execution_count": 5,
     "metadata": {},
     "output_type": "execute_result"
    }
   ],
   "source": [
    "a\n",
    "\n",
    "# As the value of global variable - a is changed(incremented by 2 in the global value) everytime b() is called, it results in 6"
   ]
  },
  {
   "cell_type": "markdown",
   "id": "ac754681",
   "metadata": {},
   "source": [
    "#### Question 2\n",
    "##### Function fileLength(), given to you, takes the name of a file as input and returns the length of the file:\n",
    " fileLength('midterm.py')\n",
    " \n",
    "284\n",
    "\n",
    " fileLength('idterm.py')\n",
    " \n",
    "Traceback (most recent call last):\n",
    "File \"<pyshell#34>\", line 1, in <module>\n",
    " fileLength('idterm.py')\n",
    "File \"/Users/me/midterm.py\", line 3, in fileLength\n",
    " infile = open(filename)\n",
    "FileNotFoundError: [Errno 2] No such file or directory:\n",
    "'idterm.py'\n",
    "    \n",
    "##### As shown above, if the file cannot be found by the interpreter or if it cannot be read as a text file, an exception will be raised. Modify function fileLength() so that a friendly message is printed instead:\n",
    "    \n",
    " fileLength('midterm.py')\n",
    "    \n",
    "358\n",
    "\n",
    " fileLength('idterm.py')\n",
    "    \n",
    "File idterm.py not found.\n"
   ]
  },
  {
   "cell_type": "code",
   "execution_count": 39,
   "id": "4d8d35a7",
   "metadata": {},
   "outputs": [],
   "source": [
    "def fileLength(filename):\n",
    "    try:\n",
    "        infile = open(filename)\n",
    "        strAge = infile.read()\n",
    "        print(len(strAge))\n",
    "    except IOError:\n",
    "        # if the file cannot be found by the interpreter\n",
    "        print(filename,' - File not found.')\n",
    "    except:\n",
    "        # executed if an exception if it cannot be read as a text file\n",
    "        print(filename, ' - File cannot be read as a text file!')"
   ]
  },
  {
   "cell_type": "code",
   "execution_count": 40,
   "id": "cb72a338",
   "metadata": {},
   "outputs": [
    {
     "name": "stdout",
     "output_type": "stream",
     "text": [
      "Picture1  - File not found.\n"
     ]
    }
   ],
   "source": [
    "fileLength('Picture1')"
   ]
  },
  {
   "cell_type": "markdown",
   "id": "7be8ca4b",
   "metadata": {},
   "source": [
    "#### Question 3\n",
    "\n",
    "#### Write a class named Marsupial that can be used as shown below:\n",
    " m = Marsupial()\n",
    "    \n",
    " m.put_in_pouch('doll')\n",
    "\n",
    " m.put_in_pouch('firetruck')\n",
    "    \n",
    " m.put_in_pouch('kitten')\n",
    "\n",
    " m.pouch_contents()\n",
    "    \n",
    "['doll', 'firetruck', 'kitten']\n",
    "\n",
    "##### Now write a class named Kangaroo as a subclass of Marsupial that inherits all the attributes of Marsupial and also:\n",
    "\n",
    "a. extends the Marsupial __init__ constructor to take, as input, the\n",
    "coordinates x and y of the Kangaroo object,\n",
    "\n",
    "b. supports method jump that takes number values dx and dy as input and\n",
    "moves the kangaroo by dx units along the x-axis and by dy units along the yaxis, and\n",
    "\n",
    "c. overloads the __str__ operator so it behaves as shown below.\n",
    "\n",
    " k = Kangaroo(0,0)\n",
    "    \n",
    " print(k)\n",
    "\n",
    "I am a Kangaroo located at coordinates (0,0)\n",
    "\n",
    " k.put_in_pouch('doll')\n",
    "\n",
    " k.put_in_pouch('firetruck')\n",
    "\n",
    " k.put_in_pouch('kitten')\n",
    "\n",
    " k.pouch_contents()\n",
    "\n",
    "['doll', 'firetruck', 'kitten']\n",
    "\n",
    " k.jump(1,0)\n",
    "\n",
    " k.jump(1,0)\n",
    "\n",
    " k.jump(1,0)\n",
    "\n",
    " print(k)\n",
    "\n",
    "I am a Kangaroo located at coordinates (3,0)"
   ]
  },
  {
   "cell_type": "code",
   "execution_count": 57,
   "id": "bf43a533",
   "metadata": {},
   "outputs": [
    {
     "name": "stdout",
     "output_type": "stream",
     "text": [
      "['doll', 'firetruck', 'kitten']\n",
      "I am a Kangaroo located at coordinates (0,0)\n",
      "['doll', 'firetruck', 'kitten']\n",
      "I am a Kangaroo located at coordinates (3,0)\n"
     ]
    }
   ],
   "source": [
    "class Marsupial:\n",
    "    def __init__(self):\n",
    "        self.pouch_content = []\n",
    "    \n",
    "    def put_in_pouch(self, item):\n",
    "        self.pouch_content.append(item)\n",
    "    \n",
    "    def pouch_contents(self):\n",
    "        return print(self.pouch_content)\n",
    "    \n",
    "m = Marsupial()\n",
    "\n",
    "m.put_in_pouch('doll')\n",
    "\n",
    "m.put_in_pouch('firetruck')\n",
    "\n",
    "m.put_in_pouch('kitten')\n",
    "\n",
    "m.pouch_contents()\n",
    "\n",
    "class Kangaroo(Marsupial):\n",
    "    def __init__(self, xco, yco):\n",
    "        Marsupial.__init__(self)\n",
    "        self.xco = xco\n",
    "        self.yco = yco\n",
    "        \n",
    "    def jump(self, dx, dy):\n",
    "        self.xco = self.xco + dx\n",
    "        self.yco = self.yco + dy\n",
    "    \n",
    "    def __str__(self):\n",
    "        return 'I am a Kangaroo located at coordinates ({},{})'.format(self.xco, self.yco)\n",
    "    \n",
    "    \n",
    "k = Kangaroo(0,0)\n",
    "\n",
    "print(k)\n",
    "k.put_in_pouch('doll')\n",
    "\n",
    "k.put_in_pouch('firetruck')\n",
    "\n",
    "k.put_in_pouch('kitten')\n",
    "\n",
    "k.pouch_contents()\n",
    "k.jump(1,0)\n",
    "\n",
    "k.jump(1,0)\n",
    "\n",
    "k.jump(1,0)\n",
    "\n",
    "print(k)"
   ]
  },
  {
   "cell_type": "markdown",
   "id": "22ea44fc",
   "metadata": {},
   "source": [
    "#### Question 4\n",
    "##### Write function collatz() that takes a positive integer x as input and prints the Collatz sequence starting at x. A Collatz sequence is obtained by repeatedly applying this rule to the previous number x in the sequence:\n",
    "\n",
    "x = {\n",
    "\n",
    "𝑥/2 𝑖𝑓 𝑥 𝑖𝑠 𝑒𝑣𝑒𝑛\n",
    "\n",
    "3𝑥 + 1 𝑖𝑓 𝑥 𝑖𝑠 𝑜𝑑𝑑\n",
    "\n",
    "Your function should stop when the sequence gets to number 1. Your\n",
    "implementation must be recursive, without any loops.\n",
    "\n",
    "collatz(1)\n",
    "\n",
    "1\n",
    "\n",
    "collatz(10)\n",
    "\n",
    "10\n",
    "\n",
    "5\n",
    "\n",
    "16\n",
    "\n",
    "8\n",
    "\n",
    "4\n",
    "\n",
    "2\n",
    "\n",
    "1\n"
   ]
  },
  {
   "cell_type": "code",
   "execution_count": 72,
   "id": "19bb1298",
   "metadata": {},
   "outputs": [
    {
     "name": "stdout",
     "output_type": "stream",
     "text": [
      "10\n",
      "5\n",
      "16\n",
      "8\n",
      "4\n",
      "2\n",
      "1\n"
     ]
    }
   ],
   "source": [
    "def collatz(x):\n",
    "    print(x)\n",
    "    if x > 1:\n",
    "        if x % 2 == 0:\n",
    "            x = int(x / 2)\n",
    "            collatz(x)\n",
    "        else:\n",
    "            x = int(3 * x + 1)\n",
    "            collatz(x)\n",
    "    \n",
    "collatz(10)"
   ]
  },
  {
   "cell_type": "markdown",
   "id": "950f1c15",
   "metadata": {},
   "source": [
    "#### Question 5\n",
    "#### Write a recursive method binary() that takes a non-negative integer n and prints the binary representation of integer n.\n",
    "\n",
    "binary(0)\n",
    "\n",
    "0\n",
    "\n",
    "binary(1)\n",
    "\n",
    "1\n",
    "\n",
    "binary(3)\n",
    "\n",
    "11\n",
    "\n",
    "binary(9)\n",
    "\n",
    "1001\n"
   ]
  },
  {
   "cell_type": "code",
   "execution_count": 73,
   "id": "34144cae",
   "metadata": {},
   "outputs": [
    {
     "name": "stdout",
     "output_type": "stream",
     "text": [
      "Enter any decimal number: 9\n",
      "1001"
     ]
    }
   ],
   "source": [
    "def binary(n):\n",
    "    if n > 1:\n",
    "        binary(n // 2)\n",
    "    print(n % 2, end='')\n",
    "    \n",
    "input = int(input(\"Enter any decimal number: \"))\n",
    "binary(input)"
   ]
  },
  {
   "cell_type": "markdown",
   "id": "84945a9f",
   "metadata": {},
   "source": [
    "##### Question 6\n",
    "##### Implement a class named HeadingParser that can be used to parse an HTML document, and retrieve and print all the headings in the document. You should implement your class as a subclass of HTMLParser, defined in Standard Library module html.parser. When fed a string containing HTML code, your class should print the headings, one per line and in the order in which they appear in the document. Each heading should be indented as follows: an h1 heading should have indentation 0, and h2 heading should have indentation 1, etc. Test your implementation using w3c.html.\n",
    "\n",
    " infile = open('w3c.html')\n",
    " \n",
    " content = infile.read()\n",
    " \n",
    " infile.close()\n",
    " \n",
    " hp = HeadingParser()\n",
    " \n",
    " hp.feed(content)\n",
    "\n",
    "W3C Mission\n",
    "\n",
    "Principles"
   ]
  },
  {
   "cell_type": "code",
   "execution_count": 34,
   "id": "bc1b01c0",
   "metadata": {
    "scrolled": true
   },
   "outputs": [
    {
     "name": "stdout",
     "output_type": "stream",
     "text": [
      "W3C Mission\n",
      "\tPrinciples\t\n"
     ]
    },
    {
     "data": {
      "text/plain": [
       "'<html> \\n<head> \\n<title>W3C Mission Summary</title> \\n</head>\\n<body>\\n<h1>W3C Mission</h1>\\n<p>\\nThe W3C mission is to lead the World Wide Web to its full potential<br>\\nby developing protocols and guidelines that ensure the long-term growth of the Web.\\n</p>\\n<h2>Principles</h2>\\n<ul>\\n<li>Web for All</li>\\n<li>Web on Everything</li>\\n</ul>\\nSee the complete <a href=\"http://www.w3.org/Consortium/mission.html\">W3C Mission document</a>.\\n</body>\\n</html>'"
      ]
     },
     "execution_count": 34,
     "metadata": {},
     "output_type": "execute_result"
    }
   ],
   "source": [
    "from html.parser import HTMLParser\n",
    "class HeadingParser(HTMLParser):\n",
    "              \n",
    "    def handle_starttag(self, tag, attrs):\n",
    "        self.count = 0  \n",
    "        if tag in ['h1','h2','h3','h4','h5','h6']:\n",
    "            self.count = 1  \n",
    "            self.heading = tag\n",
    "            \n",
    "    def handle_data(self, data):\n",
    "        if self.count:\n",
    "            tab = int(self.heading[1])\n",
    "            print((tab-1)*\"\\t\" + data, end =\"\")\n",
    "\n",
    "\n",
    "hParser = HeadingParser()\n",
    "file = open(\"w3c.html\", \"r\")\n",
    "html = file.read()\n",
    "file.close()\n",
    "hParser.feed(html)\n",
    "html"
   ]
  },
  {
   "cell_type": "markdown",
   "id": "c3a7a230",
   "metadata": {},
   "source": [
    "#### Question 7\n",
    "#### Implement recursive function webdir() that takes as input: a URL (as a string) and non-negative integers depth and indent. Your function should visit every web page reachable from the starting URL web page in depth clicks or less, and print each web page's URL. As shown below, indentation, specified by indent, should be used to indicate the depth of a URL.\n",
    "\n",
    "webdir('http://reed.cs.depaul.edu/lperkovic/csc242/test1.html', 2, 0)\n",
    "\n",
    "http://reed.cs.depaul.edu/lperkovic/csc242/test1.html\n",
    "\n",
    "    http://reed.cs.depaul.edu/lperkovic/csc242/test2.html\n",
    "\n",
    "        http://reed.cs.depaul.edu/lperkovic/csc242/test4.html\n",
    "\n",
    "    http://reed.cs.depaul.edu/lperkovic/csc242/test3.html\n",
    "\n",
    "        http://reed.cs.depaul.edu/lperkovic/csc242/test4.html"
   ]
  },
  {
   "cell_type": "code",
   "execution_count": 56,
   "id": "8a320c44",
   "metadata": {},
   "outputs": [],
   "source": [
    "from urllib.parse import urljoin\n",
    "from html.parser import HTMLParser\n",
    "from urllib.request import urlopen\n",
    "class Collector(HTMLParser):\n",
    "    'collects hyperlink URLs into a list'\n",
    "\n",
    "    def __init__(self, url):\n",
    "        'initializes parser, the url, and a list'\n",
    "        HTMLParser.__init__(self)\n",
    "        self.url = url\n",
    "        self.links = []\n",
    "\n",
    "    \n",
    "    def handle_starttag(self, tag, attrs):\n",
    "        'collects hyperlink URLs in their absolute format'\n",
    "        if tag == 'a':\n",
    "            for attr in attrs:\n",
    "                if attr[0] == 'href':\n",
    "                    # construct absolute URL\n",
    "                    absolute = urljoin(self.url, attr[1])\n",
    "                    if absolute[:4] == 'http': # collect HTTP URLs\n",
    "                        self.links.append(absolute)\n",
    "                        \n",
    "    def getLinks(self):\n",
    "        'returns hyperlinks URLs in their absolute format'\n",
    "        return self.links"
   ]
  },
  {
   "cell_type": "code",
   "execution_count": 70,
   "id": "4f9369b7",
   "metadata": {},
   "outputs": [],
   "source": [
    "def webdir(url, depth, indent):\n",
    "    resource = urlopen(url)\n",
    "    content = resource.read().decode('ISO-8859-1')\n",
    "    collector = Collector(url)\n",
    "    collector.feed(content)\n",
    "    urllist = collector.getLinks()\n",
    "    \n",
    "    for each_url in urllist:\n",
    "        if url in each_url:\n",
    "            page_reachable = each_url\n",
    "            print(\"{}{} \".format(indent*' ', page_reachable))\n",
    "#             print(page_reachable)\n",
    "            if depth>0:\n",
    "                webdir(each_url, depth-1, indent+1)\n",
    "        \n",
    "#        if depth>0:\n",
    "#             webdir(each_url, depth-1, indent+1)\n",
    "        "
   ]
  },
  {
   "cell_type": "code",
   "execution_count": 71,
   "id": "e0e13043",
   "metadata": {},
   "outputs": [
    {
     "name": "stdout",
     "output_type": "stream",
     "text": [
      "http://reed.cs.depaul.edu/lperkovic/papers/papers.html \n"
     ]
    }
   ],
   "source": [
    "webdir('http://reed.cs.depaul.edu/lperkovic/',2,0)\n",
    "# As the sample output - website structure is changed , desired output can't be achieved using this site\n"
   ]
  },
  {
   "cell_type": "markdown",
   "id": "d97a67a8",
   "metadata": {},
   "source": [
    "##### Question 8\n",
    "#### Write SQL queries on the below database table that return:\n",
    "a) All the temperature data.\n",
    "\n",
    "b) All the cities, but without repetition.\n",
    "\n",
    "c) All the records for India.\n",
    "\n",
    "d) All the Fall records.\n",
    "\n",
    "e) The city, country, and season for which the average rainfall is between 200\n",
    "and 400 millimeters.\n",
    "\n",
    "f) The city and country for which the average Fall temperature is above 20\n",
    "degrees, in increasing temperature order.\n",
    "\n",
    "g) The total annual rainfall for Cairo.\n",
    "\n",
    "h) The total rainfall for each season."
   ]
  },
  {
   "cell_type": "code",
   "execution_count": 12,
   "id": "c79d1bba",
   "metadata": {},
   "outputs": [
    {
     "data": {
      "text/plain": [
       "[]"
      ]
     },
     "execution_count": 12,
     "metadata": {},
     "output_type": "execute_result"
    }
   ],
   "source": [
    "con = sqlite3.connect('weather.db')\n",
    "cur = con.cursor()\n",
    "cur.execute('CREATE TABLE Weather (City text, Country text, Season text,Temperature float,Rainfall float)')\n",
    "cur.fetchall()"
   ]
  },
  {
   "cell_type": "code",
   "execution_count": 25,
   "id": "a005a3e5",
   "metadata": {},
   "outputs": [
    {
     "data": {
      "text/plain": [
       "<sqlite3.Cursor at 0x23ad6e1d5e0>"
      ]
     },
     "execution_count": 25,
     "metadata": {},
     "output_type": "execute_result"
    }
   ],
   "source": [
    "cur.executemany(\"INSERT INTO Weather values(?,?,?,?,?)\", (('Mumbai','India','Winter',24.8,5.9),\n",
    "('Mumbai','India','Spring',28.4,16.2),\n",
    "('Mumbai','India','Summer',27.9,1549.4),\n",
    "('Mumbai','India','Fall',27.6,346.0),\n",
    "('London','United Kingdom','Winter',4.2,207.7),\n",
    "('London','United Kingdom','Spring',8.3,169.6),\n",
    "('London','United Kingdom','Summer',15.7,157.0),\n",
    "('London','United Kingdom','Fall',10.4,218.5),\n",
    "('Cairo','Egypt','Winter',13.6,16.5),\n",
    "('Cairo','Egypt','Spring',20.7,6.5),\n",
    "('Cairo','Egypt','Summer',27.7,0.1),\n",
    "('Cairo','Egypt','Fall',22.2,4.5)))\n"
   ]
  },
  {
   "cell_type": "code",
   "execution_count": 27,
   "id": "0f06bf3f",
   "metadata": {},
   "outputs": [
    {
     "data": {
      "text/plain": [
       "[(24.8,),\n",
       " (28.4,),\n",
       " (27.9,),\n",
       " (27.6,),\n",
       " (4.2,),\n",
       " (8.3,),\n",
       " (15.7,),\n",
       " (10.4,),\n",
       " (13.6,),\n",
       " (20.7,),\n",
       " (27.7,),\n",
       " (22.2,)]"
      ]
     },
     "execution_count": 27,
     "metadata": {},
     "output_type": "execute_result"
    }
   ],
   "source": [
    "cur.execute(\"SELECT Temperature FROM Weather\")\n",
    "cur.fetchall()"
   ]
  },
  {
   "cell_type": "code",
   "execution_count": 28,
   "id": "2f5d7178",
   "metadata": {},
   "outputs": [
    {
     "data": {
      "text/plain": [
       "[('Mumbai',), ('London',), ('Cairo',)]"
      ]
     },
     "execution_count": 28,
     "metadata": {},
     "output_type": "execute_result"
    }
   ],
   "source": [
    "cur.execute(\"SELECT DISTINCT City FROM Weather\")\n",
    "cur.fetchall()"
   ]
  },
  {
   "cell_type": "code",
   "execution_count": 29,
   "id": "7cf91d65",
   "metadata": {},
   "outputs": [
    {
     "data": {
      "text/plain": [
       "[('Mumbai', 'India', 'Winter', 24.8, 5.9),\n",
       " ('Mumbai', 'India', 'Spring', 28.4, 16.2),\n",
       " ('Mumbai', 'India', 'Summer', 27.9, 1549.4),\n",
       " ('Mumbai', 'India', 'Fall', 27.6, 346.0)]"
      ]
     },
     "execution_count": 29,
     "metadata": {},
     "output_type": "execute_result"
    }
   ],
   "source": [
    "cur.execute(\"SELECT * FROM Weather WHERE Country='India'\")\n",
    "cur.fetchall()"
   ]
  },
  {
   "cell_type": "code",
   "execution_count": 30,
   "id": "ed473bc3",
   "metadata": {},
   "outputs": [
    {
     "data": {
      "text/plain": [
       "[('Mumbai', 'India', 'Fall', 27.6, 346.0),\n",
       " ('London', 'United Kingdom', 'Fall', 10.4, 218.5),\n",
       " ('Cairo', 'Egypt', 'Fall', 22.2, 4.5)]"
      ]
     },
     "execution_count": 30,
     "metadata": {},
     "output_type": "execute_result"
    }
   ],
   "source": [
    "cur.execute(\"SELECT * FROM Weather WHERE Season='Fall'\")\n",
    "cur.fetchall()"
   ]
  },
  {
   "cell_type": "code",
   "execution_count": 31,
   "id": "ccd5f4f5",
   "metadata": {},
   "outputs": [
    {
     "data": {
      "text/plain": [
       "[('Mumbai', 'India', 'Fall'),\n",
       " ('London', 'United Kingdom', 'Winter'),\n",
       " ('London', 'United Kingdom', 'Fall')]"
      ]
     },
     "execution_count": 31,
     "metadata": {},
     "output_type": "execute_result"
    }
   ],
   "source": [
    "cur.execute(\"SELECT City,Country,Season FROM Weather WHERE Rainfall BETWEEN 200 AND 400\")\n",
    "cur.fetchall()"
   ]
  },
  {
   "cell_type": "code",
   "execution_count": 33,
   "id": "f37ff15d",
   "metadata": {},
   "outputs": [
    {
     "data": {
      "text/plain": [
       "[('Cairo', 'Egypt'), ('Mumbai', 'India')]"
      ]
     },
     "execution_count": 33,
     "metadata": {},
     "output_type": "execute_result"
    }
   ],
   "source": [
    "cur.execute(\"SELECT City,Country FROM Weather WHERE Season='Fall' AND Temperature > 20 ORDER BY Temperature ASC\")\n",
    "cur.fetchall()"
   ]
  },
  {
   "cell_type": "code",
   "execution_count": 34,
   "id": "03b3f74f",
   "metadata": {},
   "outputs": [
    {
     "data": {
      "text/plain": [
       "[(27.6,)]"
      ]
     },
     "execution_count": 34,
     "metadata": {},
     "output_type": "execute_result"
    }
   ],
   "source": [
    "cur.execute(\"SELECT SUM(Rainfall) FROM Weather WHERE City = 'Cairo'\")\n",
    "cur.fetchall()"
   ]
  },
  {
   "cell_type": "code",
   "execution_count": 35,
   "id": "d575fb7b",
   "metadata": {},
   "outputs": [
    {
     "data": {
      "text/plain": [
       "[('Fall', 569.0),\n",
       " ('Spring', 192.29999999999998),\n",
       " ('Summer', 1706.5),\n",
       " ('Winter', 230.1)]"
      ]
     },
     "execution_count": 35,
     "metadata": {},
     "output_type": "execute_result"
    }
   ],
   "source": [
    "cur.execute(\"SELECT Season,SUM(Rainfall) FROM Weather GROUP BY Season\")\n",
    "cur.fetchall()"
   ]
  },
  {
   "cell_type": "markdown",
   "id": "18011de5",
   "metadata": {},
   "source": [
    "#### Question 9\n",
    "#### Suppose list words is defined as follows:\n",
    "'>>> words = ['The', 'quick', 'brown', 'fox', 'jumps', 'over', 'the', 'lazy', 'dog']\n",
    "\n",
    "#### Write list comprehension expressions that use list words and generate the following lists:\n",
    "\n",
    "a) ['THE', 'QUICK', 'BROWN', 'FOX', 'JUMPS', 'OVER', 'THE', 'LAZY', 'DOG']\n",
    "\n",
    "b) ['the', 'quick', 'brown', 'fox', 'jumps', 'over', 'the', 'lazy', 'dog']\n",
    "\n",
    "c) [3, 5, 5, 3, 5, 4, 3, 4, 3] (the list of lengths of words in list words).\n",
    "\n",
    "d) [['THE', 'the', 3], ['QUICK', 'quick', 5], ['BROWN', 'brown', 5], ['FOX', 'fox', 3], ['JUMPS', 'jumps', 5], ['OVER', 'over', 4], ['THE', 'the', 3], ['LAZY', 'lazy', 4], ['DOG', 'dog', 3]] (the list containing a list for every word of list words, where each list contains the word in uppercase and lowercase and the length of the word.)\n",
    "\n",
    "e) ['The', 'quick', 'brown', 'fox', 'jumps', 'over', 'the','lazy', 'dog'] (the list of words in list words containing 4 or more characters.)'"
   ]
  },
  {
   "cell_type": "code",
   "execution_count": 37,
   "id": "32f63aa5",
   "metadata": {},
   "outputs": [
    {
     "name": "stdout",
     "output_type": "stream",
     "text": [
      "['THE', 'QUICK', 'BROWN', 'FOX', 'JUMPS', 'OVER', 'THE', 'LAZY', 'DOG']\n",
      "['the', 'quick', 'brown', 'fox', 'jumps', 'over', 'the', 'lazy', 'dog']\n",
      "[3, 5, 5, 3, 5, 4, 3, 4, 3]\n",
      "[['THE', 'the', 3], ['QUICK', 'quick', 5], ['BROWN', 'brown', 5], ['FOX', 'fox', 3], ['JUMPS', 'jumps', 5], ['OVER', 'over', 4], ['THE', 'the', 3], ['LAZY', 'lazy', 4], ['DOG', 'dog', 3]]\n",
      "['quick', 'brown', 'jumps', 'over', 'lazy']\n"
     ]
    }
   ],
   "source": [
    "words = ['The', 'quick', 'brown', 'fox', 'jumps', 'over', 'the', 'lazy', 'dog']\n",
    "lst = [x.upper() for x in words]\n",
    "print(lst)\n",
    "lst = [x.lower() for x in words]\n",
    "print(lst)\n",
    "lst = [len(x) for x in words]\n",
    "print(lst)\n",
    "lst = [[x.upper(),x.lower(),len(x)] for x in words]\n",
    "print(lst)\n",
    "lst = [x for x in words if len(x)>=4]\n",
    "print(lst)"
   ]
  }
 ],
 "metadata": {
  "kernelspec": {
   "display_name": "Python 3 (ipykernel)",
   "language": "python",
   "name": "python3"
  },
  "language_info": {
   "codemirror_mode": {
    "name": "ipython",
    "version": 3
   },
   "file_extension": ".py",
   "mimetype": "text/x-python",
   "name": "python",
   "nbconvert_exporter": "python",
   "pygments_lexer": "ipython3",
   "version": "3.9.6"
  }
 },
 "nbformat": 4,
 "nbformat_minor": 5
}
